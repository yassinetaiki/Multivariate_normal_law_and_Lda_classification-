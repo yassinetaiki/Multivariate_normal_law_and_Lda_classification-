{
 "cells": [
  {
   "cell_type": "code",
   "execution_count": 1,
   "id": "f08d660c-bc71-4a2c-8d4c-308d0bc6ab6e",
   "metadata": {},
   "outputs": [
    {
     "name": "stdout",
     "output_type": "stream",
     "text": [
      "################## Menu #####################\n",
      "Kmeans ==> 1 ,AnalyseDiscriminanteLineaire==>2, Quitter==>3 \n"
     ]
    },
    {
     "name": "stdin",
     "output_type": "stream",
     "text": [
      "entrer votre choix 2\n"
     ]
    },
    {
     "name": "stderr",
     "output_type": "stream",
     "text": [
      "c:\\users\\packard bell\\appdata\\local\\programs\\python\\python37-32\\lib\\site-packages\\sklearn\\utils\\validation.py:63: DataConversionWarning: A column-vector y was passed when a 1d array was expected. Please change the shape of y to (n_samples, ), for example using ravel().\n",
      "  return f(*args, **kwargs)\n"
     ]
    },
    {
     "name": "stdout",
     "output_type": "stream",
     "text": [
      "Affichage Donnees==>1 ,  Prediction Et Evaluation ==2 , test de classification==>3 , Quitter==>4 \n"
     ]
    },
    {
     "name": "stdin",
     "output_type": "stream",
     "text": [
      "Votre Choix  1\n"
     ]
    },
    {
     "name": "stdout",
     "output_type": "stream",
     "text": [
      "\n",
      "base de Donnees Hospitallieres Deprtement Nord 59000 :\n",
      " \n",
      "       dep  sexe        jour  hosp  rea  HospConv  SSR_USLD  deces    rad  \\\n",
      "109560  59     0  2021-03-14  1221  239     699.0     279.0    4.0  11775   \n",
      "109561  59     1  2021-03-14   625  167     346.0     110.0    2.0   5827   \n",
      "109562  59     2  2021-03-14   583   69     348.0     164.0    2.0   5835   \n",
      "109863  59     0  2021-03-15  1259  244     738.0     272.0    5.0  11816   \n",
      "109864  59     1  2021-03-15   642  165     370.0     105.0    2.0   5854   \n",
      "...     ..   ...         ...   ...  ...       ...       ...    ...    ...   \n",
      "124408  59     1  2021-05-02   677  211     363.0     101.0    2.0   7510   \n",
      "124409  59     2  2021-05-02   700  113     418.0     166.0    3.0   7472   \n",
      "124710  59     0  2021-05-03  1381  321     788.0     266.0    6.0  15167   \n",
      "124711  59     1  2021-05-03   677  208     371.0      96.0    2.0   7530   \n",
      "124712  59     2  2021-05-03   693  109     414.0     167.0    3.0   7495   \n",
      "\n",
      "          dc        Risque  \n",
      "109560  2806    RisqueFort  \n",
      "109561  1516  RisqueFaible  \n",
      "109562  1277  RisqueFaible  \n",
      "109863  2832    RisqueFort  \n",
      "109864  1533  RisqueFaible  \n",
      "...      ...           ...  \n",
      "124408  1908   RisqueMoyen  \n",
      "124409  1561  RisqueFaible  \n",
      "124710  3518    RisqueFort  \n",
      "124711  1922  RisqueFaible  \n",
      "124712  1575  RisqueFaible  \n",
      "\n",
      "[153 rows x 11 columns] \n",
      "\n",
      "caracterstique ==>              sexe         hosp         rea    HospConv    SSR_USLD  \\\n",
      "count  153.000000   153.000000  153.000000  153.000000  153.000000   \n",
      "mean     1.000000   934.274510  208.986928  548.568627  173.248366   \n",
      "std      0.819178   339.659005   86.184089  198.873861   67.977191   \n",
      "min      0.000000   583.000000   69.000000  346.000000   91.000000   \n",
      "25%      0.000000   693.000000  129.000000  404.000000  102.000000   \n",
      "50%      1.000000   729.000000  205.000000  431.000000  161.000000   \n",
      "75%      2.000000  1362.000000  283.000000  809.000000  253.000000   \n",
      "max      2.000000  1517.000000  362.000000  912.000000  279.000000   \n",
      "\n",
      "            deces           rad           dc  \n",
      "count  153.000000    153.000000   153.000000  \n",
      "mean     3.470588   8940.862745  2101.797386  \n",
      "std      1.432971   3299.031796   775.943766  \n",
      "min      2.000000   5827.000000  1277.000000  \n",
      "25%      2.000000   6463.000000  1501.000000  \n",
      "50%      3.000000   7132.000000  1732.000000  \n",
      "75%      5.000000  12553.000000  2979.000000  \n",
      "max      7.000000  15167.000000  3518.000000  \n"
     ]
    },
    {
     "name": "stderr",
     "output_type": "stream",
     "text": [
      "c:\\users\\packard bell\\appdata\\local\\programs\\python\\python37-32\\lib\\site-packages\\sklearn\\utils\\validation.py:63: DataConversionWarning: A column-vector y was passed when a 1d array was expected. Please change the shape of y to (n_samples, ), for example using ravel().\n",
      "  return f(*args, **kwargs)\n"
     ]
    },
    {
     "name": "stdout",
     "output_type": "stream",
     "text": [
      "Affichage Donnees==>1 ,  Prediction Et Evaluation ==2 , test de classification==>3 , Quitter==>4 \n"
     ]
    },
    {
     "name": "stdin",
     "output_type": "stream",
     "text": [
      "Votre Choix  2\n"
     ]
    },
    {
     "name": "stdout",
     "output_type": "stream",
     "text": [
      "Prediction d'etiquettes\n",
      "['RisqueFaible' 'RisqueFort' 'RisqueMoyen' 'RisqueFaible' 'RisqueFort'\n",
      " 'RisqueMoyen' 'RisqueFaible' 'RisqueFort' 'RisqueFaible' 'RisqueFaible'\n",
      " 'RisqueFort' 'RisqueFaible' 'RisqueFaible' 'RisqueFort' 'RisqueFaible'\n",
      " 'RisqueFaible' 'RisqueFort' 'RisqueFaible' 'RisqueFaible' 'RisqueFort'\n",
      " 'RisqueFaible' 'RisqueFaible' 'RisqueFort' 'RisqueMoyen' 'RisqueFaible'\n",
      " 'RisqueFort' 'RisqueMoyen' 'RisqueFaible' 'RisqueFort' 'RisqueMoyen'\n",
      " 'RisqueFaible' 'RisqueFort' 'RisqueFaible' 'RisqueFaible' 'RisqueFort'\n",
      " 'RisqueFaible' 'RisqueFaible' 'RisqueFort' 'RisqueFaible' 'RisqueFaible'\n",
      " 'RisqueFort' 'RisqueFaible' 'RisqueFaible' 'RisqueFort' 'RisqueMoyen'\n",
      " 'RisqueFaible' 'RisqueFort' 'RisqueMoyen' 'RisqueFaible' 'RisqueFort'\n",
      " 'RisqueMoyen' 'RisqueFaible']\n",
      " \n",
      "classe==> ['RisqueFaible' 'RisqueFort' 'RisqueMoyen']\n",
      "\n",
      " Score de Prediction ==> 94.23076923076923 %\n",
      " \n",
      "Matrice C :\n"
     ]
    },
    {
     "data": {
      "image/png": "[encoded data removed]",
      "text/plain": [
       "<Figure size 432x288 with 2 Axes>"
      ]
     },
     "metadata": {
      "needs_background": "light"
     },
     "output_type": "display_data"
    },
    {
     "name": "stderr",
     "output_type": "stream",
     "text": [
      "c:\\users\\packard bell\\appdata\\local\\programs\\python\\python37-32\\lib\\site-packages\\sklearn\\utils\\validation.py:63: DataConversionWarning: A column-vector y was passed when a 1d array was expected. Please change the shape of y to (n_samples, ), for example using ravel().\n",
      "  return f(*args, **kwargs)\n"
     ]
    },
    {
     "name": "stdout",
     "output_type": "stream",
     "text": [
      "Affichage Donnees==>1 ,  Prediction Et Evaluation ==2 , test de classification==>3 , Quitter==>4 \n"
     ]
    },
    {
     "name": "stdin",
     "output_type": "stream",
     "text": [
      "Votre Choix  3\n"
     ]
    },
    {
     "name": "stdout",
     "output_type": "stream",
     "text": [
      " Afin de bien tester la classification Veuillez renseigner ces champs\n"
     ]
    },
    {
     "name": "stdin",
     "output_type": "stream",
     "text": [
      "Nombre de Personnes en Reanimation 1000\n",
      "nombre de personnes Hospitaliser 2000\n",
      " nombre de personne en hospitalisation conventionnelle 200\n",
      "nombre de personnes en Unités de Soins de Longue Durée 120\n",
      "nombre personnes hospitalisées dans un autre type de service 100\n",
      "nombre  de nouveaux retours à domicile 1000\n"
     ]
    },
    {
     "name": "stdout",
     "output_type": "stream",
     "text": [
      " \n",
      "etiquette departement==> ['RisqueMoyen']\n",
      " \n"
     ]
    },
    {
     "name": "stderr",
     "output_type": "stream",
     "text": [
      "c:\\users\\packard bell\\appdata\\local\\programs\\python\\python37-32\\lib\\site-packages\\sklearn\\utils\\validation.py:63: DataConversionWarning: A column-vector y was passed when a 1d array was expected. Please change the shape of y to (n_samples, ), for example using ravel().\n",
      "  return f(*args, **kwargs)\n"
     ]
    },
    {
     "name": "stdout",
     "output_type": "stream",
     "text": [
      "Affichage Donnees==>1 ,  Prediction Et Evaluation ==2 , test de classification==>3 , Quitter==>4 \n"
     ]
    },
    {
     "name": "stdin",
     "output_type": "stream",
     "text": [
      "Votre Choix  4\n"
     ]
    }
   ],
   "source": [
    "import numpy as np \n",
    "import scipy as sp \n",
    "import matplotlib.pyplot as plt \n",
    "from sklearn.cluster import KMeans\n",
    "from  sklearn.discriminant_analysis import LinearDiscriminantAnalysis\n",
    "import pandas as pd\n",
    "import numpy as np\n",
    "from sklearn import metrics\n",
    "from sklearn.metrics import confusion_matrix\n",
    "import seaborn as sns\n",
    "\n",
    "\n",
    "\n",
    "def main():\n",
    "    print(\"################## Menu #####################\")\n",
    "    print(\"Kmeans ==> 1 ,AnalyseDiscriminanteLineaire==>2, Quitter==>3 \")\n",
    "    choix=int(input(\"entrer votre choix\"))\n",
    "    if(choix==1):\n",
    "        for i in range(4):\n",
    "            print(\"Affichage Donnees==>1 ,  Prediction Et graphe ==2 , test de classification==>3 , Quitter==>4 \")\n",
    "            cbase=pd.read_csv(\"bcovid.csv\",sep=\";\")\n",
    "            cbase.dropna(axis=0,inplace=True)\n",
    "            cbase[\"dep\"].to_frame()\n",
    "            cbase[\"sexe\"].to_frame()\n",
    "            cbase[\"hosp\"].to_frame()\n",
    "            cbase[\"HospConv\"].to_frame()\n",
    "            cbase[\"dc\"].to_frame()\n",
    "            cbase[\"rea\"].to_frame()\n",
    "            cbase[\"rad\"].to_frame()\n",
    "            nvbase=cbase[cbase[\"dep\"]==\"59\"]\n",
    "            model=KMeans(n_clusters=3)\n",
    "            x=nvbase.iloc[:,[3,4]].values\n",
    "            model.fit(x)\n",
    "            choix_1=int(input(\"entrer votre choix\"))\n",
    "            if(choix_1==1):\n",
    "                print(\"base de Donnees Hospitallieres Deprtement Nord 59000 :\")\n",
    "                print(\" \")\n",
    "                print(nvbase,\"\\n\")\n",
    "                print(\"caracterstique ==>\",nvbase.describe())\n",
    "                \n",
    "            if(choix_1==2):\n",
    "                #x=nvbase.iloc[:100,[3,4,5,6,7,8,9]].values\n",
    "                #model=KMeans(n_clusters=2)\n",
    "                #model.fit(x)\n",
    "                print(\"Prediction\\n\")\n",
    "                print(model.predict(x),\"\\n\")\n",
    "                print(model.labels_,\"\\n\")\n",
    "                print(\"cordonnees des centres est ==>\")\n",
    "                print(model.cluster_centers_)\n",
    "                print(\"\")\n",
    "                print(\"Graphe :\")\n",
    "                print(\" \")\n",
    "                plt.scatter(x[:,0],x[:,1],c=model.predict(x))\n",
    "                plt.scatter(model.cluster_centers_[:,0],model.cluster_centers_[:,1],c='r')\n",
    "                plt.show()\n",
    "            \n",
    "            if(choix_1==3):\n",
    "                print(\" Afin de bien tester la classification Veuillez renseigner ces champs\")\n",
    "                rea=int(input(\"Nombre de Personnes en Reanimation\"))\n",
    "                hosp=int(input(\"nombre de personnes Hospitaliser\"))\n",
    "                Hospconv=int(input(\" nombre de personne en hospitalisation conventionnelle\"))\n",
    "                usld=int(input(\"nombre de personnes en Unités de Soins de Longue Durée\"))\n",
    "                autres=int(input(\"nombre personnes hospitalisées dans un autre type de service\"))\n",
    "                rad=int(input(\"nombre  de nouveaux retours à domicile\"))\n",
    "                x1=np.array([rea,hosp]).reshape(1,2)\n",
    "                print(\" \")\n",
    "                print(\"etiquette departement==>\",model.predict(x1))\n",
    "                print(\" \")\n",
    "            \n",
    "            if(choix_1==4):\n",
    "                break \n",
    "    \n",
    "    if(choix==2): \n",
    "        for i in range(4):\n",
    "            rbase=pd.read_csv(\"bcovid.csv\",sep=\";\")\n",
    "            rbase.dropna(axis=0,inplace=True)\n",
    "            c=rbase[rbase[\"dep\"]==\"59\"]\n",
    "            c=c.rename(\n",
    "            columns={\n",
    "                \"autres\":\"deces\"  \n",
    "                    })\n",
    "            g=np.mean(c[\"rea\"])\n",
    "            u=np.mean(c[\"hosp\"])\n",
    "            d=np.mean(c[\"deces\"])\n",
    "            s=np.mean(c[\"SSR_USLD\"])\n",
    "            h=np.mean(c[\"HospConv\"])\n",
    "            r=np.mean(c[\"rad\"])\n",
    "            #c[\"rea\"].to_frame\n",
    "            #c[\"hosp\"].to_frame\n",
    "            #c[\"deces\"].to_frame\n",
    "            #c[\"SSR_USLD\"].to_frame\n",
    "            #c[\"HospConv\"].to_frame\n",
    "            #c[\"rad\"].to_frame\n",
    "            \n",
    "            c.loc[(c[\"rea\"]>g) & (c[\"hosp\"]>u) , \"Risque\"]=\"RisqueFort\"\n",
    "            c.loc[(c[\"rea\"]<g)  & (c[\"hosp\"]>u) , \"Risque\"]=\"RisqueMoyen\"\n",
    "            c.loc[(c[\"rea\"]>g)  & (c[\"hosp\"]<u) , \"Risque\"]=\"RisqueMoyen\"\n",
    "            c.loc[(c[\"rea\"]<g)  & (c[\"hosp\"]<u) , \"Risque\"]=\"RisqueFaible\"\n",
    "            #c.loc[(c[\"rea\"]<g) &  (c[\"hosp\"]>u) & (c[\"deces\"]<d) ,\"Risque\"]=\"RisqueMoyen\"\n",
    "            c.dropna(axis=0,inplace=True)\n",
    "            xtrain=c.iloc[:100,[3,4,5,6,7,8]].values\n",
    "            ytrain=c.iloc[:100,[10]].values\n",
    "            xtest=c.iloc[101:,[3,4,5,6,7,8]].values\n",
    "            ytest=c.iloc[101:,[10]].values\n",
    "            #print(ytest)\n",
    "            #print(xtrain)\n",
    "            #print(ytrain)\n",
    "            m_model=LinearDiscriminantAnalysis()\n",
    "            m_model.fit(xtrain,ytrain)\n",
    "            ypredict=m_model.predict(xtest)\n",
    "            conf=confusion_matrix(ytest,ypredict)\n",
    "            \n",
    "            print(\"Affichage Donnees==>1 ,  Prediction Et Evaluation ==2 , test de classification==>3 , Quitter==>4 \")\n",
    "            choix_2=int(input(\"Votre Choix \"))\n",
    "            if(choix_2==1):    \n",
    "                print(\"\")\n",
    "                print(\"base de Donnees Hospitallieres Deprtement Nord 59000 :\")\n",
    "                print(\" \")\n",
    "                print(c,\"\\n\")\n",
    "                print(\"caracterstique ==>\",c.describe())\n",
    "            \n",
    "            if(choix_2==2):\n",
    "                print(\"Prediction d'etiquettes\")\n",
    "                print(m_model.predict(xtest))\n",
    "                print(\" \")\n",
    "                print(\"classe==>\",m_model.classes_)\n",
    "                print(\"\")\n",
    "                print(\" Score de Prediction ==>\",m_model.score(xtest,ytest)*100,\"%\")\n",
    "                print(\" \")\n",
    "                print(\"Matrice C :\")\n",
    "                sns.heatmap(conf,annot=True,square=True)\n",
    "                plt.xlabel(\"classe Predictes\")\n",
    "                plt.ylabel(\"classe Reelles\")\n",
    "                plt.show()\n",
    "                \n",
    "               \n",
    "            if(choix_2==3):\n",
    "                print(\" Afin de bien tester la classification Veuillez renseigner ces champs\")\n",
    "                rea=int(input(\"Nombre de Personnes en Reanimation\"))\n",
    "                hosp=int(input(\"nombre de personnes Hospitaliser\"))\n",
    "                Hospconv=int(input(\" nombre de personne en hospitalisation conventionnelle\"))\n",
    "                usld=int(input(\"nombre de personnes en Unités de Soins de Longue Durée\"))\n",
    "                autres=int(input(\"nombre personnes hospitalisées dans un autre type de service\"))\n",
    "                rad=int(input(\"nombre  de nouveaux retours à domicile\"))\n",
    "                x2=np.array([rea,hosp,Hospconv,usld,autres,rad]).reshape(1,6)\n",
    "                print(\" \")\n",
    "                print(\"etiquette departement==>\",m_model.predict(x2))\n",
    "                print(\" \")\n",
    "            \n",
    "            if(choix_2==4):\n",
    "                break\n",
    "                \n",
    "                \n",
    "                \n",
    "main()            "
   ]
  },
  {
   "cell_type": "code",
   "execution_count": null,
   "id": "be21d951-cf16-491b-b22e-fa30e969637a",
   "metadata": {},
   "outputs": [],
   "source": []
  }
 ],
 "metadata": {
  "kernelspec": {
   "display_name": "Python 3",
   "language": "python",
   "name": "python3"
  },
  "language_info": {
   "codemirror_mode": {
    "name": "ipython",
    "version": 3
   },
   "file_extension": ".py",
   "mimetype": "text/x-python",
   "name": "python",
   "nbconvert_exporter": "python",
   "pygments_lexer": "ipython3",
   "version": "3.7.3"
  }
 },
 "nbformat": 4,
 "nbformat_minor": 5
}
